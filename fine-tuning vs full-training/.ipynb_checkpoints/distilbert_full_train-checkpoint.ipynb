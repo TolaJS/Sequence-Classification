{
 "cells": [
  {
   "cell_type": "code",
   "execution_count": 1,
   "id": "6e971bbf-d4b7-4c64-ba83-6e2338d9ab5e",
   "metadata": {
    "id": "6e971bbf-d4b7-4c64-ba83-6e2338d9ab5e"
   },
   "outputs": [
    {
     "name": "stderr",
     "output_type": "stream",
     "text": [
      "/user/HS225/os00315/.local/lib/python3.10/site-packages/transformers/utils/generic.py:441: UserWarning: torch.utils._pytree._register_pytree_node is deprecated. Please use torch.utils._pytree.register_pytree_node instead.\n",
      "  _torch_pytree._register_pytree_node(\n",
      "2024-05-03 08:29:35.686994: I tensorflow/core/platform/cpu_feature_guard.cc:210] This TensorFlow binary is optimized to use available CPU instructions in performance-critical operations.\n",
      "To enable the following instructions: AVX2 FMA, in other operations, rebuild TensorFlow with the appropriate compiler flags.\n",
      "2024-05-03 08:29:37.974466: W tensorflow/compiler/tf2tensorrt/utils/py_utils.cc:38] TF-TRT Warning: Could not find TensorRT\n",
      "/user/HS225/os00315/.local/lib/python3.10/site-packages/transformers/utils/generic.py:309: UserWarning: torch.utils._pytree._register_pytree_node is deprecated. Please use torch.utils._pytree.register_pytree_node instead.\n",
      "  _torch_pytree._register_pytree_node(\n"
     ]
    }
   ],
   "source": [
    "import torch\n",
    "import spacy\n",
    "import numpy as np\n",
    "import seaborn as sns\n",
    "import matplotlib.pyplot as plt\n",
    "from datasets import load_dataset, load_metric, Dataset, concatenate_datasets\n",
    "from transformers import DataCollatorForTokenClassification\n",
    "from transformers import Trainer, TrainingArguments, EarlyStoppingCallback\n",
    "from transformers import DistilBertConfig, DistilBertForTokenClassification, AutoTokenizer\n",
    "from sklearn.metrics import f1_score, precision_score, recall_score, classification_report, confusion_matrix"
   ]
  },
  {
   "cell_type": "code",
   "execution_count": 2,
   "id": "3WdWxvizzVt8",
   "metadata": {
    "id": "3WdWxvizzVt8"
   },
   "outputs": [],
   "source": [
    "np.random.seed(0)\n",
    "torch.manual_seed(0)\n",
    "torch.backends.cudnn.deterministic = True\n",
    "torch.backends.cudnn.benchmark = False"
   ]
  },
  {
   "cell_type": "code",
   "execution_count": 3,
   "id": "a41a2fcd-c9ff-44b6-88a3-7eedfe22ec91",
   "metadata": {
    "id": "a41a2fcd-c9ff-44b6-88a3-7eedfe22ec91"
   },
   "outputs": [],
   "source": [
    "dataset = load_dataset(\"surrey-nlp/PLOD-CW\")\n",
    "dataset2 = load_dataset(\"surrey-nlp/PLOD-filtered\")"
   ]
  },
  {
   "cell_type": "code",
   "execution_count": 4,
   "id": "a896235a-e2b6-40dd-8fcd-de6759b8308c",
   "metadata": {},
   "outputs": [],
   "source": [
    "reverse_encoding = {0: \"B-O\", 1: \"B-AC\", 3: \"B-LF\", 4: \"I-LF\"}"
   ]
  },
  {
   "cell_type": "code",
   "execution_count": 5,
   "id": "1b76a76f-d115-4d07-b953-32db710280a7",
   "metadata": {},
   "outputs": [],
   "source": [
    "# Returns samples from additional dataset that are not in the original dataset\n",
    "def new_dict(dataset, subset, size):\n",
    "    train2 = dataset2[subset][:2500]\n",
    "    temp_tokens, temp_pos, temp_ner = [], [], []\n",
    "\n",
    "    for tokens, pos_tags, ner_tags in zip(train2['tokens'], train2['pos_tags'], train2['ner_tags']):\n",
    "        if tokens not in dataset['tokens']:\n",
    "            temp_tokens.append(tokens)\n",
    "            temp_pos.append(pos_tags)\n",
    "            temp_ner.append(ner_tags)\n",
    "        if len(temp_tokens) == int(len(dataset['tokens']) * size):\n",
    "            break\n",
    "\n",
    "    # Change additional dataset numeric encoding to NER tags\n",
    "    for i, tags in enumerate(temp_ner):\n",
    "        temp_ner[i] = [reverse_encoding[tag] for tag in tags]\n",
    "    for i, tags in enumerate(temp_pos): # Fill additional dataset numeric pos_tags with filler strings\n",
    "        temp_pos[i] = ['O' for tag in tags]\n",
    "\n",
    "    # print('size', len(temp_tokens))\n",
    "    return {'tokens':temp_tokens, 'pos_tags':temp_pos, 'ner_tags':temp_ner}"
   ]
  },
  {
   "cell_type": "code",
   "execution_count": 6,
   "id": "93eafdcc-4669-495b-ab0b-7d181d3ab862",
   "metadata": {},
   "outputs": [],
   "source": [
    "# Add new sample to train dataset\n",
    "new_train = new_dict(dataset['train'], 'train', 2)\n",
    "new_data_train = Dataset.from_dict(new_train)\n",
    "dataset['train'] = concatenate_datasets([dataset['train'], new_data_train])"
   ]
  },
  {
   "cell_type": "code",
   "execution_count": 7,
   "id": "e05f5f2f-137a-4611-aab6-4746e52430ff",
   "metadata": {},
   "outputs": [],
   "source": [
    "new_val = new_dict(dataset['validation'], 'validation', 2)\n",
    "new_data_val = Dataset.from_dict(new_val)\n",
    "dataset['validation'] = concatenate_datasets([dataset['validation'], new_data_val])"
   ]
  },
  {
   "cell_type": "code",
   "execution_count": 8,
   "id": "c0ecda5a-a8f8-4796-84bd-247b8f1f24dd",
   "metadata": {},
   "outputs": [],
   "source": [
    "eng = spacy.load(\"en_core_web_sm\")\n",
    "\n",
    "def lemmatize_tokens(dataset):       \n",
    "    dataset['tokens'] = [eng(token)[0].lemma_ for token in dataset['tokens']]\n",
    "    return dataset"
   ]
  },
  {
   "cell_type": "code",
   "execution_count": 9,
   "id": "617dfb52-819c-459c-bdf7-308675ab6cc1",
   "metadata": {},
   "outputs": [],
   "source": [
    "dataset = dataset.map(lambda dataset: lemmatize_tokens(dataset))"
   ]
  },
  {
   "cell_type": "code",
   "execution_count": 10,
   "id": "a643b0f1-a1c9-4784-8e71-e5c6b97f73f6",
   "metadata": {
    "id": "a643b0f1-a1c9-4784-8e71-e5c6b97f73f6"
   },
   "outputs": [],
   "source": [
    "tokenizer = AutoTokenizer.from_pretrained('distilbert-base-uncased')"
   ]
  },
  {
   "cell_type": "code",
   "execution_count": 11,
   "id": "29d751de-1da8-40a1-8b71-60244eec67ba",
   "metadata": {
    "id": "29d751de-1da8-40a1-8b71-60244eec67ba"
   },
   "outputs": [],
   "source": [
    "import transformers\n",
    "assert isinstance(tokenizer, transformers.PreTrainedTokenizerFast)"
   ]
  },
  {
   "cell_type": "code",
   "execution_count": 12,
   "id": "db0337dd-4d98-44f0-a2a0-2f78853b1c60",
   "metadata": {
    "id": "db0337dd-4d98-44f0-a2a0-2f78853b1c60"
   },
   "outputs": [],
   "source": [
    "config = DistilBertConfig(\n",
    "    num_labels=4\n",
    ")\n",
    "model = DistilBertForTokenClassification(config)"
   ]
  },
  {
   "cell_type": "code",
   "execution_count": 13,
   "id": "628ee2fe-3859-4f5d-b2fe-b767e66eebc1",
   "metadata": {
    "id": "628ee2fe-3859-4f5d-b2fe-b767e66eebc1"
   },
   "outputs": [],
   "source": [
    "train_dataset = dataset[\"train\"]\n",
    "val_dataset = dataset[\"validation\"]\n",
    "test_dataset = dataset[\"test\"]"
   ]
  },
  {
   "cell_type": "code",
   "execution_count": 14,
   "id": "1f8bb4fc-d351-40ba-8f35-745ece779122",
   "metadata": {
    "id": "1f8bb4fc-d351-40ba-8f35-745ece779122"
   },
   "outputs": [],
   "source": [
    "label_encoding = {\"B-O\": 0, \"B-AC\": 1, \"B-LF\": 2, \"I-LF\": 3}\n",
    "\n",
    "label_list = []\n",
    "for sample in train_dataset[\"ner_tags\"]:\n",
    "    label_list.append([label_encoding[tag] for tag in sample])\n",
    "\n",
    "val_label_list = []\n",
    "for sample in val_dataset[\"ner_tags\"]:\n",
    "    val_label_list.append([label_encoding[tag] for tag in sample])\n",
    "\n",
    "test_label_list = []\n",
    "for sample in test_dataset[\"ner_tags\"]:\n",
    "    test_label_list.append([label_encoding[tag] for tag in sample])"
   ]
  },
  {
   "cell_type": "code",
   "execution_count": 15,
   "id": "f0d822c8-8fe2-41ad-bd34-a1c8d2d7ec91",
   "metadata": {
    "id": "f0d822c8-8fe2-41ad-bd34-a1c8d2d7ec91"
   },
   "outputs": [],
   "source": [
    "def tokenize_and_align_labels(dataset, list_name):\n",
    "    tokenized_inputs = tokenizer(dataset[\"tokens\"], truncation=True, is_split_into_words=True, max_length=512) ## For some models, you may need to set max_length to approximately 500.\n",
    "\n",
    "    labels = []\n",
    "    for i, label in enumerate(list_name):\n",
    "        word_ids = tokenized_inputs.word_ids(batch_index=i)\n",
    "        previous_word_idx = None\n",
    "        label_ids = []\n",
    "        for word_idx in word_ids:\n",
    "            # Special tokens have a word id that is None. We set the label to -100 so they are automatically\n",
    "            # ignored in the loss function.\n",
    "            if word_idx is None:\n",
    "                label_ids.append(-100)\n",
    "            # We set the label for the first token of each word.\n",
    "            elif word_idx != previous_word_idx:\n",
    "                label_ids.append(label[word_idx])\n",
    "            # For the other tokens in a word, we set the label to either the current label or -100, depending on\n",
    "            # the label_all_tokens flag.\n",
    "            else:\n",
    "                label_ids.append(label[word_idx])\n",
    "            previous_word_idx = word_idx\n",
    "\n",
    "        labels.append(label_ids)\n",
    "\n",
    "    tokenized_inputs[\"labels\"] = labels\n",
    "    return tokenized_inputs"
   ]
  },
  {
   "cell_type": "code",
   "execution_count": 16,
   "id": "630e6cea-5d9c-4ec9-800e-12457a802d76",
   "metadata": {
    "id": "630e6cea-5d9c-4ec9-800e-12457a802d76"
   },
   "outputs": [],
   "source": [
    "tokenized_datasets = tokenize_and_align_labels(train_dataset, label_list)\n",
    "tokenized_val_datasets = tokenize_and_align_labels(val_dataset, val_label_list)\n",
    "tokenized_test_datasets = tokenize_and_align_labels(test_dataset, test_label_list)"
   ]
  },
  {
   "cell_type": "code",
   "execution_count": 17,
   "id": "302000d2-a959-49d3-a7a0-19ee06876773",
   "metadata": {
    "id": "302000d2-a959-49d3-a7a0-19ee06876773"
   },
   "outputs": [],
   "source": [
    "def turn_dict_to_list_of_dict(d):\n",
    "    new_list = []\n",
    "\n",
    "    for labels, inputs in zip(d[\"labels\"], d[\"input_ids\"]):\n",
    "        entry = {\"input_ids\": inputs, \"labels\": labels}\n",
    "        new_list.append(entry)\n",
    "\n",
    "    return new_list"
   ]
  },
  {
   "cell_type": "code",
   "execution_count": 18,
   "id": "ff41f6bc-f7c1-4d67-929b-8cc988a90c86",
   "metadata": {
    "id": "ff41f6bc-f7c1-4d67-929b-8cc988a90c86"
   },
   "outputs": [],
   "source": [
    "tokenised_train = turn_dict_to_list_of_dict(tokenized_datasets)\n",
    "tokenised_val = turn_dict_to_list_of_dict(tokenized_val_datasets)\n",
    "tokenised_test = turn_dict_to_list_of_dict(tokenized_test_datasets)"
   ]
  },
  {
   "cell_type": "code",
   "execution_count": 19,
   "id": "de165726-84a6-4e4c-b651-8c82d7927b51",
   "metadata": {
    "id": "de165726-84a6-4e4c-b651-8c82d7927b51"
   },
   "outputs": [],
   "source": [
    "data_collator = DataCollatorForTokenClassification(tokenizer)"
   ]
  },
  {
   "cell_type": "code",
   "execution_count": 20,
   "id": "3f936d52-43a3-4e9c-8c45-30dc32b18ad1",
   "metadata": {
    "colab": {
     "base_uri": "https://localhost:8080/"
    },
    "executionInfo": {
     "elapsed": 529,
     "status": "ok",
     "timestamp": 1714041403513,
     "user": {
      "displayName": "Tola Shobande",
      "userId": "13696914751968213816"
     },
     "user_tz": -60
    },
    "id": "3f936d52-43a3-4e9c-8c45-30dc32b18ad1",
    "outputId": "02739d73-0c9c-4d09-ec39-d5cecc26838a"
   },
   "outputs": [
    {
     "name": "stderr",
     "output_type": "stream",
     "text": [
      "/tmp/ipykernel_1605428/1580341719.py:1: FutureWarning: load_metric is deprecated and will be removed in the next major version of datasets. Use 'evaluate.load' instead, from the new library 🤗 Evaluate: https://huggingface.co/docs/evaluate\n",
      "  metric = load_metric(\"seqeval\")\n",
      "/user/HS225/os00315/.local/lib/python3.10/site-packages/datasets/load.py:756: FutureWarning: The repository for seqeval contains custom code which must be executed to correctly load the metric. You can inspect the repository content at https://raw.githubusercontent.com/huggingface/datasets/2.18.0/metrics/seqeval/seqeval.py\n",
      "You can avoid this message in future by passing the argument `trust_remote_code=True`.\n",
      "Passing `trust_remote_code=True` will be mandatory to load this metric from the next major release of `datasets`.\n",
      "  warnings.warn(\n"
     ]
    }
   ],
   "source": [
    "metric = load_metric(\"seqeval\")\n",
    "def compute_metrics(p):\n",
    "    predictions, labels = p\n",
    "    predictions = np.argmax(predictions, axis=2)\n",
    "\n",
    "    # Remove ignored index (special tokens)\n",
    "    true_predictions = [\n",
    "        [label_list[p] for (p, l) in zip(prediction, label) if l != -100]\n",
    "        for prediction, label in zip(predictions, labels)\n",
    "    ]\n",
    "    true_labels = [\n",
    "        [label_list[l] for (p, l) in zip(prediction, label) if l != -100]\n",
    "        for prediction, label in zip(predictions, labels)\n",
    "    ]\n",
    "\n",
    "    results = metric.compute(predictions=true_predictions, references=true_labels)\n",
    "    return {\n",
    "        \"precision\": results[\"overall_precision\"],\n",
    "        \"recall\": results[\"overall_recall\"],\n",
    "        \"f1\": results[\"overall_f1\"],\n",
    "        \"accuracy\": results[\"overall_accuracy\"],\n",
    "    }"
   ]
  },
  {
   "cell_type": "code",
   "execution_count": 21,
   "id": "ed1d06d5-c6b4-4e0c-94fe-2b7092521d82",
   "metadata": {
    "id": "ed1d06d5-c6b4-4e0c-94fe-2b7092521d82"
   },
   "outputs": [
    {
     "name": "stderr",
     "output_type": "stream",
     "text": [
      "/user/HS225/os00315/.local/lib/python3.10/site-packages/accelerate/accelerator.py:432: FutureWarning: Passing the following arguments to `Accelerator` is deprecated and will be removed in version 1.0 of Accelerate: dict_keys(['dispatch_batches', 'split_batches']). Please pass an `accelerate.DataLoaderConfiguration` instead: \n",
      "dataloader_config = DataLoaderConfiguration(dispatch_batches=None, split_batches=False)\n",
      "  warnings.warn(\n"
     ]
    }
   ],
   "source": [
    "# Training arguments (feel free to play arround with these values)\n",
    "epochs = 6\n",
    "batch_size = 4\n",
    "learning_rate = 2e-5\n",
    "\n",
    "args = TrainingArguments(\n",
    "    f\"DistilBERT-full-train-NER\",\n",
    "    # evaluation_strategy = \"epoch\", ## Instead of focusing on loss and accuracy, we will focus on the F1 score\n",
    "    evaluation_strategy ='steps',\n",
    "    eval_steps = 7000,\n",
    "    save_total_limit = 3,\n",
    "    learning_rate=learning_rate,\n",
    "    per_device_train_batch_size=batch_size,\n",
    "    per_device_eval_batch_size=batch_size,\n",
    "    num_train_epochs=epochs,\n",
    "    weight_decay=0.001,\n",
    "    save_steps=35000,\n",
    "    metric_for_best_model = 'f1',\n",
    "    load_best_model_at_end=True\n",
    ")\n",
    "\n",
    "trainer = Trainer(\n",
    "    model,\n",
    "    args,\n",
    "    train_dataset=tokenised_train,\n",
    "    eval_dataset=tokenised_val,\n",
    "    data_collator = data_collator,\n",
    "    tokenizer=tokenizer,\n",
    "    compute_metrics=compute_metrics,\n",
    "    callbacks = [EarlyStoppingCallback(early_stopping_patience=3)]\n",
    ")"
   ]
  },
  {
   "cell_type": "code",
   "execution_count": 22,
   "id": "37786569-e13a-4736-86df-2ccc0eaeb6fa",
   "metadata": {
    "colab": {
     "base_uri": "https://localhost:8080/",
     "height": 110
    },
    "executionInfo": {
     "elapsed": 100102,
     "status": "ok",
     "timestamp": 1714041505050,
     "user": {
      "displayName": "Tola Shobande",
      "userId": "13696914751968213816"
     },
     "user_tz": -60
    },
    "id": "37786569-e13a-4736-86df-2ccc0eaeb6fa",
    "outputId": "7330fe17-c7d5-418f-a25f-ac8cc9686502"
   },
   "outputs": [
    {
     "name": "stderr",
     "output_type": "stream",
     "text": [
      "You're using a DistilBertTokenizerFast tokenizer. Please note that with a fast tokenizer, using the `__call__` method is faster than using a method to encode the text followed by a call to the `pad` method to get a padded encoding.\n"
     ]
    },
    {
     "data": {
      "text/html": [
       "\n",
       "    <div>\n",
       "      \n",
       "      <progress value='4824' max='4824' style='width:300px; height:20px; vertical-align: middle;'></progress>\n",
       "      [4824/4824 05:38, Epoch 6/6]\n",
       "    </div>\n",
       "    <table border=\"1\" class=\"dataframe\">\n",
       "  <thead>\n",
       " <tr style=\"text-align: left;\">\n",
       "      <th>Step</th>\n",
       "      <th>Training Loss</th>\n",
       "      <th>Validation Loss</th>\n",
       "    </tr>\n",
       "  </thead>\n",
       "  <tbody>\n",
       "  </tbody>\n",
       "</table><p>"
      ],
      "text/plain": [
       "<IPython.core.display.HTML object>"
      ]
     },
     "metadata": {},
     "output_type": "display_data"
    },
    {
     "data": {
      "text/plain": [
       "TrainOutput(global_step=4824, training_loss=0.48893583433742743, metrics={'train_runtime': 338.4869, 'train_samples_per_second': 57.007, 'train_steps_per_second': 14.252, 'total_flos': 490237345407840.0, 'train_loss': 0.48893583433742743, 'epoch': 6.0})"
      ]
     },
     "execution_count": 22,
     "metadata": {},
     "output_type": "execute_result"
    }
   ],
   "source": [
    "trainer.train()"
   ]
  },
  {
   "cell_type": "code",
   "execution_count": 23,
   "id": "0c01f342-1cfe-4085-811f-ab5271b93a3e",
   "metadata": {
    "colab": {
     "base_uri": "https://localhost:8080/",
     "height": 874
    },
    "executionInfo": {
     "elapsed": 1869,
     "status": "ok",
     "timestamp": 1714041506896,
     "user": {
      "displayName": "Tola Shobande",
      "userId": "13696914751968213816"
     },
     "user_tz": -60
    },
    "id": "0c01f342-1cfe-4085-811f-ab5271b93a3e",
    "outputId": "01a827f9-35a7-4fb0-d992-250b573159f2"
   },
   "outputs": [
    {
     "data": {
      "text/html": [],
      "text/plain": [
       "<IPython.core.display.HTML object>"
      ]
     },
     "metadata": {},
     "output_type": "display_data"
    },
    {
     "name": "stderr",
     "output_type": "stream",
     "text": [
      "/user/HS225/os00315/.local/lib/python3.10/site-packages/seqeval/metrics/sequence_labeling.py:171: UserWarning: [0, 0, 0, 0, 2, 3, 3, 3, 3, 0, 1, 0, 0, 0, 0] seems not to be NE tag.\n",
      "  warnings.warn('{} seems not to be NE tag.'.format(chunk))\n",
      "/user/HS225/os00315/.local/lib/python3.10/site-packages/seqeval/metrics/sequence_labeling.py:171: UserWarning: [0, 0, 0, 0, 0, 0, 0, 2, 3, 0, 1, 0, 0, 0, 0, 0, 0, 0, 2, 3, 0, 1, 0, 0, 0, 0, 0, 0, 0, 2, 3, 3, 0, 1, 0, 0, 0, 0, 0, 0, 2, 3, 3, 1, 0, 1, 0, 0, 0, 0, 0, 0] seems not to be NE tag.\n",
      "  warnings.warn('{} seems not to be NE tag.'.format(chunk))\n",
      "/user/HS225/os00315/.local/lib/python3.10/site-packages/seqeval/metrics/sequence_labeling.py:171: UserWarning: [0, 1, 0, 0, 0, 0, 0, 0, 0, 0, 0, 2, 3, 3, 0, 1, 0, 0, 0, 0, 2, 3, 3, 0, 1, 0, 0, 0, 0, 0] seems not to be NE tag.\n",
      "  warnings.warn('{} seems not to be NE tag.'.format(chunk))\n",
      "/user/HS225/os00315/.local/lib/python3.10/site-packages/seqeval/metrics/sequence_labeling.py:171: UserWarning: [1, 0, 2, 3, 3, 0] seems not to be NE tag.\n",
      "  warnings.warn('{} seems not to be NE tag.'.format(chunk))\n"
     ]
    },
    {
     "name": "stdout",
     "output_type": "stream",
     "text": [
      "              precision    recall  f1-score   support\n",
      "\n",
      "         B-O       0.89      0.91      0.90      5384\n",
      "        B-AC       0.56      0.66      0.60       540\n",
      "        B-LF       0.39      0.23      0.29       301\n",
      "        I-LF       0.33      0.28      0.30       406\n",
      "\n",
      "    accuracy                           0.82      6631\n",
      "   macro avg       0.54      0.52      0.52      6631\n",
      "weighted avg       0.81      0.82      0.81      6631\n",
      "\n",
      "Overall F1 Score: 0.5249450942659798\n",
      "Overall Precision Score: 0.5438099604890624\n",
      "Overall Recall Score: 0.5199673898835542\n"
     ]
    },
    {
     "data": {
      "image/png": "[encoded data removed]",
      "text/plain": [
       "<Figure size 432x288 with 2 Axes>"
      ]
     },
     "metadata": {
      "needs_background": "light"
     },
     "output_type": "display_data"
    }
   ],
   "source": [
    "predictions, labels, _ = trainer.predict(tokenised_test)\n",
    "predictions = np.argmax(predictions, axis=2)\n",
    "\n",
    "# Remove the predictions for the [CLS] and [SEP] tokens\n",
    "y_pred = []\n",
    "y_true = []\n",
    "\n",
    "for prediction, label in zip(predictions, labels):\n",
    "    filtered_pairs = [(p, l) for p, l in zip(prediction, label) if l != -100]\n",
    "    y_pred.extend([p for p, _ in filtered_pairs])\n",
    "    y_true.extend([l for _, l in filtered_pairs])\n",
    "\n",
    "# Compute multiple metrics on the test restuls\n",
    "labels_indices = list(label_encoding.values())\n",
    "labels_names = list(label_encoding.keys())\n",
    "print(classification_report(y_true, y_pred, labels=labels_indices, target_names=labels_names))\n",
    "\n",
    "overall_f1 = f1_score(y_true, y_pred, average= 'macro')\n",
    "overall_precision = precision_score(y_true, y_pred, average='macro')\n",
    "overall_recall = recall_score(y_true, y_pred, average='macro')\n",
    "print(f'Overall F1 Score: {overall_f1}')\n",
    "print(f'Overall Precision Score: {overall_precision}')\n",
    "print(f'Overall Recall Score: {overall_recall}')\n",
    "\n",
    "# Confusion matrix\n",
    "cm = confusion_matrix(y_true, y_pred, labels=[labels_indices])\n",
    "disp = sns.heatmap(cm, annot=True, fmt='d', cmap='Blues', xticklabels=labels_names, yticklabels=labels_names) # adjust cmap if needed\n",
    "disp.set_xlabel(\"Predicted Label\")\n",
    "disp.set_ylabel(\"True Label\")\n",
    "disp.set_title(\"Confusion Matrix for NER-tags\")\n",
    "plt.show()"
   ]
  },
  {
   "cell_type": "code",
   "execution_count": null,
   "id": "0ba26c9c-ecac-45ac-9e66-b45dab8aa57b",
   "metadata": {
    "id": "0ba26c9c-ecac-45ac-9e66-b45dab8aa57b"
   },
   "outputs": [],
   "source": []
  }
 ],
 "metadata": {
  "accelerator": "GPU",
  "colab": {
   "gpuType": "T4",
   "provenance": []
  },
  "kernelspec": {
   "display_name": "Python 3 (ipykernel)",
   "language": "python",
   "name": "python3"
  },
  "language_info": {
   "codemirror_mode": {
    "name": "ipython",
    "version": 3
   },
   "file_extension": ".py",
   "mimetype": "text/x-python",
   "name": "python",
   "nbconvert_exporter": "python",
   "pygments_lexer": "ipython3",
   "version": "3.10.12"
  }
 },
 "nbformat": 4,
 "nbformat_minor": 5
}
