{
 "cells": [
  {
   "cell_type": "code",
   "execution_count": 1,
   "id": "a52330ea-0032-4f65-834c-9bdf5d6e706d",
   "metadata": {},
   "outputs": [],
   "source": [
    "from datasets import load_dataset, load_metric\n",
    "from collections import Counter\n",
    "import matplotlib.pyplot as plt\n",
    "import pandas as pd\n",
    "import numpy as np\n",
    "import re"
   ]
  },
  {
   "cell_type": "code",
   "execution_count": 2,
   "id": "1de4be9b-19f7-4628-9e67-e99ebf555065",
   "metadata": {},
   "outputs": [],
   "source": [
    "dataset = load_dataset(\"surrey-nlp/PLOD-CW\")"
   ]
  },
  {
   "cell_type": "code",
   "execution_count": 3,
   "id": "db17f49f-a91b-4b79-b94c-63e0e713cb8d",
   "metadata": {},
   "outputs": [],
   "source": [
    "train_dataset = dataset[\"train\"]\n",
    "val_dataset = dataset[\"validation\"]\n",
    "test_dataset = dataset[\"test\"]"
   ]
  },
  {
   "cell_type": "markdown",
   "id": "30d1230f-e2c8-4ab5-a961-42707f3e481c",
   "metadata": {},
   "source": [
    "## Samples from the Train dataset"
   ]
  },
  {
   "cell_type": "code",
   "execution_count": 4,
   "id": "c03e8346-9852-435e-acb7-1aacd7c561d9",
   "metadata": {},
   "outputs": [
    {
     "data": {
      "text/html": [
       "<div>\n",
       "<style scoped>\n",
       "    .dataframe tbody tr th:only-of-type {\n",
       "        vertical-align: middle;\n",
       "    }\n",
       "\n",
       "    .dataframe tbody tr th {\n",
       "        vertical-align: top;\n",
       "    }\n",
       "\n",
       "    .dataframe thead th {\n",
       "        text-align: right;\n",
       "    }\n",
       "</style>\n",
       "<table border=\"1\" class=\"dataframe\">\n",
       "  <thead>\n",
       "    <tr style=\"text-align: right;\">\n",
       "      <th></th>\n",
       "      <th>tokens</th>\n",
       "      <th>pos_tags</th>\n",
       "      <th>ner_tags</th>\n",
       "    </tr>\n",
       "  </thead>\n",
       "  <tbody>\n",
       "    <tr>\n",
       "      <th>0</th>\n",
       "      <td>[For, this, purpose, the, Gothenburg, Young, P...</td>\n",
       "      <td>[ADP, DET, NOUN, DET, PROPN, PROPN, PROPN, PRO...</td>\n",
       "      <td>[B-O, B-O, B-O, B-O, B-LF, I-LF, I-LF, I-LF, I...</td>\n",
       "    </tr>\n",
       "    <tr>\n",
       "      <th>1</th>\n",
       "      <td>[The, following, physiological, traits, were, ...</td>\n",
       "      <td>[DET, ADJ, ADJ, NOUN, AUX, VERB, PUNCT, ADJ, N...</td>\n",
       "      <td>[B-O, B-O, B-O, B-O, B-O, B-O, B-O, B-LF, I-LF...</td>\n",
       "    </tr>\n",
       "    <tr>\n",
       "      <th>2</th>\n",
       "      <td>[Minor, H, antigen, alloimmune, responses, rea...</td>\n",
       "      <td>[ADJ, PROPN, NOUN, ADJ, NOUN, ADV, VERB, ADP, ...</td>\n",
       "      <td>[B-O, B-AC, B-O, B-O, B-O, B-O, B-O, B-O, B-O,...</td>\n",
       "    </tr>\n",
       "    <tr>\n",
       "      <th>3</th>\n",
       "      <td>[EPI, =, Echo, planar, imaging, .]</td>\n",
       "      <td>[PROPN, PUNCT, NOUN, NOUN, NOUN, PUNCT]</td>\n",
       "      <td>[B-AC, B-O, B-LF, I-LF, I-LF, B-O]</td>\n",
       "    </tr>\n",
       "    <tr>\n",
       "      <th>4</th>\n",
       "      <td>[Furthermore, ,, eNOS, -, derived, NO, S, -, n...</td>\n",
       "      <td>[ADV, PUNCT, PROPN, PUNCT, VERB, PROPN, NOUN, ...</td>\n",
       "      <td>[B-O, B-O, B-AC, B-O, B-O, B-AC, B-O, B-O, B-O...</td>\n",
       "    </tr>\n",
       "  </tbody>\n",
       "</table>\n",
       "</div>"
      ],
      "text/plain": [
       "                                              tokens  \\\n",
       "0  [For, this, purpose, the, Gothenburg, Young, P...   \n",
       "1  [The, following, physiological, traits, were, ...   \n",
       "2  [Minor, H, antigen, alloimmune, responses, rea...   \n",
       "3                 [EPI, =, Echo, planar, imaging, .]   \n",
       "4  [Furthermore, ,, eNOS, -, derived, NO, S, -, n...   \n",
       "\n",
       "                                            pos_tags  \\\n",
       "0  [ADP, DET, NOUN, DET, PROPN, PROPN, PROPN, PRO...   \n",
       "1  [DET, ADJ, ADJ, NOUN, AUX, VERB, PUNCT, ADJ, N...   \n",
       "2  [ADJ, PROPN, NOUN, ADJ, NOUN, ADV, VERB, ADP, ...   \n",
       "3            [PROPN, PUNCT, NOUN, NOUN, NOUN, PUNCT]   \n",
       "4  [ADV, PUNCT, PROPN, PUNCT, VERB, PROPN, NOUN, ...   \n",
       "\n",
       "                                            ner_tags  \n",
       "0  [B-O, B-O, B-O, B-O, B-LF, I-LF, I-LF, I-LF, I...  \n",
       "1  [B-O, B-O, B-O, B-O, B-O, B-O, B-O, B-LF, I-LF...  \n",
       "2  [B-O, B-AC, B-O, B-O, B-O, B-O, B-O, B-O, B-O,...  \n",
       "3                 [B-AC, B-O, B-LF, I-LF, I-LF, B-O]  \n",
       "4  [B-O, B-O, B-AC, B-O, B-O, B-AC, B-O, B-O, B-O...  "
      ]
     },
     "execution_count": 4,
     "metadata": {},
     "output_type": "execute_result"
    }
   ],
   "source": [
    "train_df = pd.DataFrame(train_dataset)\n",
    "train_df.head(5)"
   ]
  },
  {
   "cell_type": "markdown",
   "id": "93075151-91a3-433d-98e4-2c9f34e26365",
   "metadata": {},
   "source": [
    "### Label Encoding"
   ]
  },
  {
   "cell_type": "code",
   "execution_count": 5,
   "id": "8898f072-6a0d-485c-9738-03a3940b3d3f",
   "metadata": {},
   "outputs": [],
   "source": [
    "label_encoding = {\"B-O\": 0, \"B-AC\": 1, \"B-LF\": 2, \"I-LF\": 3}\n",
    "\n",
    "train_label_list = []\n",
    "for sample in train_dataset[\"ner_tags\"]:\n",
    "    train_label_list.append([label_encoding[tag] for tag in sample])\n",
    "\n",
    "val_label_list = []\n",
    "for sample in val_dataset[\"ner_tags\"]:\n",
    "    val_label_list.append([label_encoding[tag] for tag in sample])\n",
    "\n",
    "test_label_list = []\n",
    "for sample in test_dataset[\"ner_tags\"]:\n",
    "    test_label_list.append([label_encoding[tag] for tag in sample])\n"
   ]
  },
  {
   "cell_type": "markdown",
   "id": "882ba6ff-5a26-4129-b949-ac275bca6bb5",
   "metadata": {},
   "source": [
    "# Calculating `ner_tag` frequency in all datasets(train, validation, and test)"
   ]
  },
  {
   "cell_type": "code",
   "execution_count": 6,
   "id": "b947bd45-3bbb-4efe-9826-55d9f39f4055",
   "metadata": {},
   "outputs": [],
   "source": [
    "label_list_train = []\n",
    "label_list_val = []\n",
    "label_list_test = []\n",
    "for i in train_label_list:\n",
    "    label_list_train += i\n",
    "\n",
    "for i in val_label_list:\n",
    "    label_list_val += i\n",
    "\n",
    "for i in test_label_list:\n",
    "    label_list_test += i"
   ]
  },
  {
   "cell_type": "code",
   "execution_count": 7,
   "id": "6d12bde9-3fa7-49d0-9457-1932b8e32b03",
   "metadata": {},
   "outputs": [],
   "source": [
    "count_train = Counter(label_list_train)\n",
    "count_val = Counter(label_list_val)\n",
    "count_test = Counter(label_list_test)\n",
    "numbers = range(4)\n",
    "\n",
    "def bar_chart(count,dataset):   \n",
    "    occurrences = [count[number] for number in numbers]\n",
    "    \n",
    "    plt.bar(numbers, occurrences, tick_label=[str(label) for label in label_encoding.keys()])\n",
    "    plt.xlabel('Labels')\n",
    "    plt.ylabel('Occurrences')\n",
    "    plt.title(f'Occurrences of Each Label of {dataset}')\n",
    "    plt.show()"
   ]
  },
  {
   "cell_type": "code",
   "execution_count": 8,
   "id": "65881a0e-bcae-4324-b63a-e283bf987d18",
   "metadata": {},
   "outputs": [
    {
     "data": {
      "image/png": "[encoded data removed]",
      "text/plain": [
       "<Figure size 432x288 with 1 Axes>"
      ]
     },
     "metadata": {
      "needs_background": "light"
     },
     "output_type": "display_data"
    },
    {
     "data": {
      "image/png": "[encoded data removed]",
      "text/plain": [
       "<Figure size 432x288 with 1 Axes>"
      ]
     },
     "metadata": {
      "needs_background": "light"
     },
     "output_type": "display_data"
    },
    {
     "data": {
      "image/png": "[encoded data removed]",
      "text/plain": [
       "<Figure size 432x288 with 1 Axes>"
      ]
     },
     "metadata": {
      "needs_background": "light"
     },
     "output_type": "display_data"
    }
   ],
   "source": [
    "bar_chart(count_train,'Train')\n",
    "bar_chart(count_val,'Validation')\n",
    "bar_chart(count_test, 'Test')"
   ]
  },
  {
   "cell_type": "markdown",
   "id": "402d1b6f-8fe3-4218-9362-dfd6105e7489",
   "metadata": {},
   "source": [
    "# Number of tokens in each dataset"
   ]
  },
  {
   "cell_type": "code",
   "execution_count": 9,
   "id": "d5cb7f52-f5e9-4ce4-8654-1b20c39457d9",
   "metadata": {},
   "outputs": [],
   "source": [
    "labels_df = pd.DataFrame({\n",
    "    'Labels':[i for i in label_encoding.keys()],\n",
    "    'Train':[count_train[i] for i in range(len(count_train))],\n",
    "    'Validation':[count_val[i] for i in range(len(count_val))],\n",
    "    'Test':[count_test[i] for i in range(len(count_test))]})"
   ]
  },
  {
   "cell_type": "code",
   "execution_count": 10,
   "id": "0b43c410-4c09-4638-9f0d-51e8bdb3ae18",
   "metadata": {},
   "outputs": [
    {
     "data": {
      "text/html": [
       "<div>\n",
       "<style scoped>\n",
       "    .dataframe tbody tr th:only-of-type {\n",
       "        vertical-align: middle;\n",
       "    }\n",
       "\n",
       "    .dataframe tbody tr th {\n",
       "        vertical-align: top;\n",
       "    }\n",
       "\n",
       "    .dataframe thead th {\n",
       "        text-align: right;\n",
       "    }\n",
       "</style>\n",
       "<table border=\"1\" class=\"dataframe\">\n",
       "  <thead>\n",
       "    <tr style=\"text-align: right;\">\n",
       "      <th></th>\n",
       "      <th>Labels</th>\n",
       "      <th>Train</th>\n",
       "      <th>Validation</th>\n",
       "      <th>Test</th>\n",
       "      <th>Total</th>\n",
       "    </tr>\n",
       "  </thead>\n",
       "  <tbody>\n",
       "    <tr>\n",
       "      <th>0</th>\n",
       "      <td>B-O</td>\n",
       "      <td>32971</td>\n",
       "      <td>4261</td>\n",
       "      <td>4292</td>\n",
       "      <td>41524</td>\n",
       "    </tr>\n",
       "    <tr>\n",
       "      <th>1</th>\n",
       "      <td>B-AC</td>\n",
       "      <td>2336</td>\n",
       "      <td>263</td>\n",
       "      <td>270</td>\n",
       "      <td>2869</td>\n",
       "    </tr>\n",
       "    <tr>\n",
       "      <th>2</th>\n",
       "      <td>B-LF</td>\n",
       "      <td>1462</td>\n",
       "      <td>149</td>\n",
       "      <td>150</td>\n",
       "      <td>1761</td>\n",
       "    </tr>\n",
       "    <tr>\n",
       "      <th>3</th>\n",
       "      <td>I-LF</td>\n",
       "      <td>3231</td>\n",
       "      <td>327</td>\n",
       "      <td>288</td>\n",
       "      <td>3846</td>\n",
       "    </tr>\n",
       "  </tbody>\n",
       "</table>\n",
       "</div>"
      ],
      "text/plain": [
       "  Labels  Train  Validation  Test  Total\n",
       "0    B-O  32971        4261  4292  41524\n",
       "1   B-AC   2336         263   270   2869\n",
       "2   B-LF   1462         149   150   1761\n",
       "3   I-LF   3231         327   288   3846"
      ]
     },
     "execution_count": 10,
     "metadata": {},
     "output_type": "execute_result"
    }
   ],
   "source": [
    "labels_df['Total'] = labels_df[['Train','Validation','Test']].sum(axis =1)\n",
    "labels_df.head()"
   ]
  },
  {
   "cell_type": "code",
   "execution_count": 11,
   "id": "471e739b-87da-44d9-8666-81e8cc9bb2f1",
   "metadata": {},
   "outputs": [
    {
     "data": {
      "image/png": "[encoded data removed]",
      "text/plain": [
       "<Figure size 432x288 with 1 Axes>"
      ]
     },
     "metadata": {
      "needs_background": "light"
     },
     "output_type": "display_data"
    }
   ],
   "source": [
    "labels_df.plot(kind='bar', x='Labels', y='Total', legend=False)\n",
    "plt.xlabel('Labels')\n",
    "plt.ylabel('Total')\n",
    "plt.title('Bar Chart of Total Label Count')\n",
    "plt.show()"
   ]
  },
  {
   "cell_type": "markdown",
   "id": "892620be-6b63-4c38-8bb4-6829a9dc71a2",
   "metadata": {},
   "source": [
    "# Count of Long form by token length"
   ]
  },
  {
   "cell_type": "code",
   "execution_count": 12,
   "id": "cb0b8164-c6d4-404b-a13a-9adeabad7196",
   "metadata": {},
   "outputs": [],
   "source": [
    "def analyze_sequences(mylist):\n",
    "    sequence_counts = {}\n",
    "    \n",
    "    for sublist in mylist:\n",
    "        i = 0\n",
    "        while i < len(sublist):\n",
    "            if sublist[i] == 2:\n",
    "                # Start a new sequence with '2'\n",
    "                sequence_length = 1\n",
    "                i += 1  # Move to the next element after '2'\n",
    "                \n",
    "                # Check if '3's follow the '2'\n",
    "                while i < len(sublist) and sublist[i] == 3:\n",
    "                    sequence_length += 1\n",
    "                    i += 1\n",
    "                \n",
    "                # If sequence is longer than 5, limit it to 5 (based on original logic)\n",
    "                if sequence_length > 5:\n",
    "                    sequence_length = 5\n",
    "\n",
    "                # Update the dictionary with the found sequence length\n",
    "                if sequence_length in sequence_counts:\n",
    "                    sequence_counts[sequence_length] += 1\n",
    "                else:\n",
    "                    sequence_counts[sequence_length] = 1\n",
    "            else:\n",
    "                i += 1\n",
    "\n",
    "    return sequence_counts"
   ]
  },
  {
   "cell_type": "code",
   "execution_count": 13,
   "id": "9ee92aa3-4b1e-47c0-b763-e4d09b965d74",
   "metadata": {},
   "outputs": [
    {
     "name": "stdout",
     "output_type": "stream",
     "text": [
      "{5: 263, 2: 467, 3: 560, 1: 196, 4: 275}\n"
     ]
    }
   ],
   "source": [
    "sequence_counts = analyze_sequences(train_label_list)\n",
    "val_counts = analyze_sequences(val_label_list)\n",
    "test_counts = analyze_sequences(test_label_list)\n",
    "\n",
    "for i in range(1,6):\n",
    "    sequence_counts[i] = sequence_counts[i] + val_counts[i] + test_counts[i]\n",
    "print(sequence_counts)"
   ]
  },
  {
   "cell_type": "code",
   "execution_count": 14,
   "id": "bbed71bf-f330-401b-a689-b74d60a35236",
   "metadata": {},
   "outputs": [
    {
     "data": {
      "image/png": "[encoded data removed]",
      "text/plain": [
       "<Figure size 432x288 with 1 Axes>"
      ]
     },
     "metadata": {
      "needs_background": "light"
     },
     "output_type": "display_data"
    }
   ],
   "source": [
    "occurrences = [sequence_counts[i] for i in range(1,6)]\n",
    "\n",
    "plt.bar(range(5), occurrences, tick_label=['1 ','2 ','3','4','5+'])\n",
    "plt.xlabel('Tokens')\n",
    "plt.ylabel('Occurrences')\n",
    "plt.title('Length of Long Forms in Tokens')\n",
    "plt.show()"
   ]
  },
  {
   "cell_type": "markdown",
   "id": "606fc0c1-9210-45b0-8cf5-833de062abb4",
   "metadata": {},
   "source": [
    "## Count of Unique long forms by token length"
   ]
  },
  {
   "cell_type": "code",
   "execution_count": 15,
   "id": "cfb43a06-ea93-4a58-b737-15a26d4251d9",
   "metadata": {},
   "outputs": [],
   "source": [
    "def unique_lf(dataset):\n",
    "    unique_tokens = set()\n",
    "    \n",
    "    for tokens, ner_tags in zip(dataset['tokens'], dataset['ner_tags']):\n",
    "        i = 0\n",
    "        while i < len(tokens):\n",
    "            if ner_tags[i] == 'B-LF':\n",
    "                temp_list = [tokens[i]]\n",
    "                i += 1\n",
    "                while i < len(tokens) and ner_tags[i] == 'I-LF':\n",
    "                    temp_list.append(tokens[i])\n",
    "                    i += 1\n",
    "                unique_tokens.add(\" \".join(temp_list))\n",
    "            else:\n",
    "                i += 1\n",
    "    return unique_tokens\n"
   ]
  },
  {
   "cell_type": "code",
   "execution_count": 16,
   "id": "efcc5072-14fa-4965-ba0f-c1b84a0cfa26",
   "metadata": {},
   "outputs": [],
   "source": [
    "unique_dataset = set()\n",
    "unique_dataset.update(unique_lf(train_dataset))\n",
    "unique_dataset.update(unique_lf(val_dataset))\n",
    "unique_dataset.update(unique_lf(test_dataset))\n",
    "\n",
    "unique_list = [sentence.split() for sentence in unique_dataset]"
   ]
  },
  {
   "cell_type": "code",
   "execution_count": 17,
   "id": "d298c773-ff2c-4b1e-8939-208124284d24",
   "metadata": {},
   "outputs": [],
   "source": [
    "sequence_counts = {}\n",
    "for i in unique_list:\n",
    "    length = len(i)\n",
    "    if length > 5: length = 5\n",
    "    if length in sequence_counts:\n",
    "        sequence_counts[length] += 1\n",
    "    else:\n",
    "        sequence_counts[length] = 1"
   ]
  },
  {
   "cell_type": "code",
   "execution_count": 18,
   "id": "bd3ec22f-aea5-48c8-9f91-82582c06e49b",
   "metadata": {},
   "outputs": [
    {
     "data": {
      "text/plain": [
       "{3: 472, 2: 357, 5: 246, 1: 168, 4: 240}"
      ]
     },
     "execution_count": 18,
     "metadata": {},
     "output_type": "execute_result"
    }
   ],
   "source": [
    "sequence_counts"
   ]
  },
  {
   "cell_type": "code",
   "execution_count": 19,
   "id": "72698db6-66c5-487c-83cb-cdbe39c06623",
   "metadata": {},
   "outputs": [
    {
     "data": {
      "image/png": "[encoded data removed]",
      "text/plain": [
       "<Figure size 432x288 with 1 Axes>"
      ]
     },
     "metadata": {
      "needs_background": "light"
     },
     "output_type": "display_data"
    }
   ],
   "source": [
    "occurrences = [sequence_counts[i] for i in range(1,6)]\n",
    "\n",
    "plt.bar(range(5), occurrences, tick_label=['1 ','2 ','3','4','5+'])\n",
    "plt.xlabel('Tokens')\n",
    "plt.ylabel('Occurrences')\n",
    "plt.title('Length of Long Forms in Tokens')\n",
    "plt.show()"
   ]
  },
  {
   "cell_type": "markdown",
   "id": "f5160fbc-b098-4254-b79e-4f0df946b790",
   "metadata": {},
   "source": [
    "# Count of Abbreviations by character length"
   ]
  },
  {
   "cell_type": "code",
   "execution_count": 20,
   "id": "75bb64c0-ec64-45fb-bdb2-61b427da90f0",
   "metadata": {},
   "outputs": [],
   "source": [
    "def char_count(dataset):\n",
    "    count = {}\n",
    "    for tokens, ner_tags in zip(dataset['tokens'], dataset['ner_tags']):\n",
    "        for token, tag in zip(tokens, ner_tags):\n",
    "            if tag == 'B-AC':\n",
    "                token_length = min(len(token), 6)\n",
    "                count[token_length] = count.get(token_length, 0) + 1\n",
    "    return count"
   ]
  },
  {
   "cell_type": "code",
   "execution_count": 21,
   "id": "7f4bf7a2-45af-4fab-9e60-8e372ba12673",
   "metadata": {},
   "outputs": [],
   "source": [
    "train_char = char_count(train_dataset)\n",
    "val_char = char_count(val_dataset)\n",
    "test_char = char_count(test_dataset)\n",
    "char_dict = {}\n",
    "\n",
    "for i in range(1,7):\n",
    "    char_dict[i] = train_char[i] + val_char[i] + test_char[i]"
   ]
  },
  {
   "cell_type": "code",
   "execution_count": 22,
   "id": "6c8accab-de20-4cad-bf76-40c449ec7181",
   "metadata": {},
   "outputs": [
    {
     "data": {
      "text/plain": [
       "{1: 52, 2: 607, 3: 1117, 4: 571, 5: 258, 6: 264}"
      ]
     },
     "execution_count": 22,
     "metadata": {},
     "output_type": "execute_result"
    }
   ],
   "source": [
    "char_dict"
   ]
  },
  {
   "cell_type": "code",
   "execution_count": 23,
   "id": "182e0c15-b137-4396-8ee6-c188ecc61207",
   "metadata": {},
   "outputs": [
    {
     "data": {
      "image/png": "[encoded data removed]",
      "text/plain": [
       "<Figure size 432x288 with 1 Axes>"
      ]
     },
     "metadata": {
      "needs_background": "light"
     },
     "output_type": "display_data"
    }
   ],
   "source": [
    "occurrences = [char_dict[i] for i in range(1,7)]\n",
    "\n",
    "plt.bar(range(6), occurrences, tick_label=['1','2 ','3 ','4','5','6+'])\n",
    "plt.xlabel('Character Length')\n",
    "plt.ylabel('Occurrences')\n",
    "plt.title('Charater Length of Abbreviations')\n",
    "plt.show()"
   ]
  },
  {
   "cell_type": "markdown",
   "id": "2984c930-6689-4b70-ac9d-fb83dd571187",
   "metadata": {},
   "source": [
    "## Count of unique Abbreviations by character length"
   ]
  },
  {
   "cell_type": "code",
   "execution_count": 24,
   "id": "4ef486c9-3fb7-4741-8981-0722bb9aa3e6",
   "metadata": {},
   "outputs": [],
   "source": [
    "def unique_char_count(dataset):\n",
    "    temp_set = set()\n",
    "    for tokens, ner_tags in zip(dataset['tokens'], dataset['ner_tags']):\n",
    "        for token, tag in zip(tokens, ner_tags):\n",
    "            if tag == 'B-AC':\n",
    "                temp_set.add(token) \n",
    "    return temp_set"
   ]
  },
  {
   "cell_type": "code",
   "execution_count": 25,
   "id": "b4730774-6df4-412e-8156-f2622b8ebb41",
   "metadata": {},
   "outputs": [],
   "source": [
    "char_set = set()\n",
    "char_set.update(unique_char_count(train_dataset))\n",
    "char_set.update(unique_char_count(val_dataset))\n",
    "char_set.update(unique_char_count(test_dataset))\n",
    "\n",
    "unique_char_dict = {}\n",
    "for i in char_set:\n",
    "    token_length = min(len(i), 6)\n",
    "    unique_char_dict[token_length] = unique_char_dict.get(token_length, 0) + 1"
   ]
  },
  {
   "cell_type": "code",
   "execution_count": 26,
   "id": "f6c00eab-808c-48b4-9ae5-d0cc53cda2c3",
   "metadata": {},
   "outputs": [
    {
     "data": {
      "text/plain": [
       "{3: 709, 2: 258, 4: 430, 5: 203, 6: 233, 1: 30}"
      ]
     },
     "execution_count": 26,
     "metadata": {},
     "output_type": "execute_result"
    }
   ],
   "source": [
    "unique_char_dict"
   ]
  },
  {
   "cell_type": "code",
   "execution_count": 27,
   "id": "41698414-58d3-4327-a7f0-ce132a77d8a3",
   "metadata": {},
   "outputs": [
    {
     "data": {
      "image/png": "[encoded data removed]",
      "text/plain": [
       "<Figure size 432x288 with 1 Axes>"
      ]
     },
     "metadata": {
      "needs_background": "light"
     },
     "output_type": "display_data"
    }
   ],
   "source": [
    "occurrences = [unique_char_dict[i] for i in range(1,7)]\n",
    "\n",
    "plt.bar(range(6), occurrences, tick_label=['1','2 ','3 ','4','5','6+'])\n",
    "plt.xlabel('Character Length')\n",
    "plt.ylabel('Occurrences')\n",
    "plt.title('Charater Length of Abbreviations')\n",
    "plt.show()"
   ]
  },
  {
   "cell_type": "code",
   "execution_count": null,
   "id": "0c790b5d-0b93-4444-a1cf-77961fe1b288",
   "metadata": {
    "editable": true,
    "slideshow": {
     "slide_type": ""
    },
    "tags": []
   },
   "outputs": [],
   "source": []
  }
 ],
 "metadata": {
  "kernelspec": {
   "display_name": "Python 3 (ipykernel)",
   "language": "python",
   "name": "python3"
  },
  "language_info": {
   "codemirror_mode": {
    "name": "ipython",
    "version": 3
   },
   "file_extension": ".py",
   "mimetype": "text/x-python",
   "name": "python",
   "nbconvert_exporter": "python",
   "pygments_lexer": "ipython3",
   "version": "3.10.12"
  }
 },
 "nbformat": 4,
 "nbformat_minor": 5
}
