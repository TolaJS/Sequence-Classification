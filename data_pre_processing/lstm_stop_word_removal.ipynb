{
 "cells": [
  {
   "cell_type": "code",
   "execution_count": 1,
   "id": "fc1214dc-246c-443d-936c-744e736f86e0",
   "metadata": {
    "editable": true,
    "slideshow": {
     "slide_type": ""
    },
    "tags": []
   },
   "outputs": [],
   "source": [
    "import torch\n",
    "\n",
    "import spacy\n",
    "import torch.nn as nn\n",
    "import numpy as np\n",
    "import seaborn as sns\n",
    "import torch.optim as optim\n",
    "import matplotlib.pyplot as plt\n",
    "from datasets import load_dataset, load_metric\n",
    "from sklearn.metrics import f1_score, precision_score, recall_score, classification_report, confusion_matrix"
   ]
  },
  {
   "cell_type": "code",
   "execution_count": 2,
   "id": "d061fd5f-5f41-4e5c-ac52-42a82535a7da",
   "metadata": {},
   "outputs": [],
   "source": [
    "np.random.seed(0)\n",
    "torch.manual_seed(0)\n",
    "torch.backends.cudnn.deterministic = True\n",
    "torch.backends.cudnn.benchmark = False"
   ]
  },
  {
   "cell_type": "code",
   "execution_count": 3,
   "id": "de57c3b2-9ea0-478f-aa1a-181b9f0909f0",
   "metadata": {},
   "outputs": [],
   "source": [
    "# Load the dataset\n",
    "dataset = load_dataset(\"surrey-nlp/PLOD-CW\")\n",
    "# Vocab dictionary\n",
    "word_index = {}\n",
    "# Model parameters\n",
    "embedding_dim = 300\n",
    "hidden_dim = 128"
   ]
  },
  {
   "cell_type": "code",
   "execution_count": 4,
   "id": "989c8774-467d-45ed-afa0-d08c8caf6228",
   "metadata": {},
   "outputs": [
    {
     "name": "stderr",
     "output_type": "stream",
     "text": [
      "/user/HS225/os00315/.local/lib/python3.10/site-packages/transformers/utils/generic.py:441: UserWarning: torch.utils._pytree._register_pytree_node is deprecated. Please use torch.utils._pytree.register_pytree_node instead.\n",
      "  _torch_pytree._register_pytree_node(\n",
      "/user/HS225/os00315/.local/lib/python3.10/site-packages/transformers/utils/generic.py:309: UserWarning: torch.utils._pytree._register_pytree_node is deprecated. Please use torch.utils._pytree.register_pytree_node instead.\n",
      "  _torch_pytree._register_pytree_node(\n"
     ]
    }
   ],
   "source": [
    "eng = spacy.load(\"en_core_web_sm\")\n",
    "stopwords = spacy.lang.en.stop_words.STOP_WORDS"
   ]
  },
  {
   "cell_type": "code",
   "execution_count": 5,
   "id": "555d104c-dce4-4060-aeb5-4c7747e19cdb",
   "metadata": {},
   "outputs": [],
   "source": [
    "def remove_stop_words(dataset):       \n",
    "    new_tokens, new_pos_tags, new_ner_tags = [], [], []\n",
    "    \n",
    "    for tokens, pos_tags, ner_tags in zip(dataset['tokens'], dataset['pos_tags'], dataset['ner_tags']):\n",
    "        temp_tokens, temp_pos, temp_ner = [], [], []\n",
    "\n",
    "        # To remove empty stings and corresponding ner_tags and pos_tags\n",
    "        for i in range(len(tokens)):\n",
    "            if (tokens[i] not in stopwords) or (ner_tags[i] != \"B-O\"):\n",
    "                temp_tokens.append(tokens[i])\n",
    "                temp_pos.append(pos_tags[i])\n",
    "                temp_ner.append(ner_tags[i])\n",
    "        if temp_tokens:\n",
    "            new_tokens.append(temp_tokens)\n",
    "            new_pos_tags.append(temp_pos)\n",
    "            new_ner_tags.append(temp_ner)\n",
    "\n",
    "    return {'tokens': new_tokens, 'pos_tags': new_pos_tags, 'ner_tags': new_ner_tags}"
   ]
  },
  {
   "cell_type": "code",
   "execution_count": 6,
   "id": "cfb8f616-58dd-4288-870a-f67489a9c44a",
   "metadata": {},
   "outputs": [],
   "source": [
    "dataset['train'] = dataset['train'].map(remove_stop_words, batched=True)\n",
    "dataset['validation'] = dataset['validation'].map(remove_stop_words, batched=True)\n",
    "dataset['test'] = dataset['test'].map(remove_stop_words, batched=True)"
   ]
  },
  {
   "cell_type": "code",
   "execution_count": 7,
   "id": "50cb5420-2314-49e9-909c-0a43324abaec",
   "metadata": {},
   "outputs": [],
   "source": [
    "label_encoding = {\"B-O\": 0, \"B-AC\": 1, \"B-LF\": 2, \"I-LF\": 3}"
   ]
  },
  {
   "cell_type": "code",
   "execution_count": 8,
   "id": "3fe1346d-3882-493e-bf3c-cbfd71c904cd",
   "metadata": {},
   "outputs": [],
   "source": [
    "train_dataset = dataset[\"train\"]\n",
    "val_dataset = dataset[\"validation\"]\n",
    "test_dataset = dataset[\"test\"]"
   ]
  },
  {
   "cell_type": "code",
   "execution_count": 9,
   "id": "fbb0b6f2-1009-4f89-917d-0d9abd7298d8",
   "metadata": {},
   "outputs": [],
   "source": [
    "def encode_label(tags):\n",
    "    global label_encoding\n",
    "    return [label_encoding[tag] for tag in tags]\n",
    "\n",
    "def build_vocab(dataset):\n",
    "    global  word_index\n",
    "    for item in dataset['tokens']:\n",
    "        for word in item:\n",
    "            if word not in word_index:\n",
    "                word_index[word] = len(word_index)\n",
    "    return word_index"
   ]
  },
  {
   "cell_type": "code",
   "execution_count": 10,
   "id": "e81edece-a7a7-452a-b4a3-a60cafbcd92e",
   "metadata": {},
   "outputs": [],
   "source": [
    "word_index = build_vocab(train_dataset)\n",
    "word_index = build_vocab(val_dataset)\n",
    "word_index = build_vocab(test_dataset)"
   ]
  },
  {
   "cell_type": "markdown",
   "id": "d2f8a9a5-4081-466a-96a5-000dfe20a561",
   "metadata": {},
   "source": [
    "## Define the LSTM model"
   ]
  },
  {
   "cell_type": "code",
   "execution_count": 11,
   "id": "cd8761d9-943a-4434-b355-019f7758f538",
   "metadata": {},
   "outputs": [],
   "source": [
    "# LSTM model\n",
    "class LSTM(nn.Module):\n",
    "    def __init__(self, embedding_dim, hidden_dim, vocab_size, tags):\n",
    "        super(LSTM, self).__init__()\n",
    "        self.hidden_dim = hidden_dim\n",
    "        self.embeddings = nn.Embedding(vocab_size, embedding_dim)\n",
    "        self.lstm = nn.LSTM(embedding_dim, hidden_dim, batch_first=True, bidirectional=True)\n",
    "        self.fc = nn.Linear(2 * hidden_dim, tags)\n",
    "\n",
    "    def forward(self, sentence):\n",
    "        embeds = self.embeddings(sentence)\n",
    "        lstm_out, _ = self.lstm(embeds)\n",
    "        lstm_out = self.fc(lstm_out)\n",
    "        return torch.log_softmax(lstm_out, dim=-1)"
   ]
  },
  {
   "cell_type": "code",
   "execution_count": 12,
   "id": "dc190a67-4f69-454e-91db-bc46ef43f854",
   "metadata": {},
   "outputs": [],
   "source": [
    "# Encode strings and return tensor\n",
    "def encode_sequence(seq, encoder=None):\n",
    "    if type(seq[0]) == int:\n",
    "        encoded_ids = seq\n",
    "    else:\n",
    "        encoded_ids = [encoder[word] for word in seq]\n",
    "    return torch.tensor(encoded_ids, dtype=torch.long)"
   ]
  },
  {
   "cell_type": "code",
   "execution_count": 13,
   "id": "56791da2-d617-4172-9708-fc369206fd1c",
   "metadata": {},
   "outputs": [],
   "source": [
    "# Evaluate the model\n",
    "def evaluate(model, token_dataset, word_index):\n",
    "    global label_encoding\n",
    "    model.eval()\n",
    "    y_true = []\n",
    "    y_pred = []\n",
    "    \n",
    "    with torch.no_grad():\n",
    "        for i, datapoint in enumerate(token_dataset):\n",
    "            inputs = encode_sequence(datapoint['tokens'], word_index)\n",
    "            targets = encode_sequence(encode_label(datapoint['ner_tags']))\n",
    "            tag_scores = model(inputs.unsqueeze(0))\n",
    "            \n",
    "            predicted_tags = tag_scores.max(-1)[1].squeeze().tolist()\n",
    "            y_pred.extend(predicted_tags)\n",
    "            y_true.extend(targets.tolist())    \n",
    "\n",
    "    # Detailed performance metrics\n",
    "    labels_indices = list(label_encoding.values())\n",
    "    labels_names = list(label_encoding.keys())\n",
    "    print(classification_report(y_true, y_pred, labels=labels_indices, target_names=labels_names))\n",
    "\n",
    "    overall_f1 = f1_score(y_true, y_pred, average= 'macro')\n",
    "    overall_precision = precision_score(y_true, y_pred, average='macro')\n",
    "    overall_recall = recall_score(y_true, y_pred, average='macro')\n",
    "    print(f'Overall F1 Score: {overall_f1}')\n",
    "    print(f'Overall Precision Score: {overall_precision}')\n",
    "    print(f'Overall Recall Score: {overall_recall}')\n",
    "\n",
    "    # Confusion matrix\n",
    "    cm = confusion_matrix(y_true, y_pred, labels=[labels_indices])\n",
    "    disp = sns.heatmap(cm, annot=True, fmt='d', cmap='Blues', xticklabels=labels_names, yticklabels=labels_names) # adjust cmap if needed\n",
    "    disp.set_xlabel(\"Predicted Label\")\n",
    "    disp.set_ylabel(\"True Label\")\n",
    "    disp.set_title(\"Confusion Matrix for NER-tags\")\n",
    "    plt.show()"
   ]
  },
  {
   "cell_type": "markdown",
   "id": "0d137467-e288-46d6-8b5c-97bab8b4fd97",
   "metadata": {},
   "source": [
    "## Training the model"
   ]
  },
  {
   "cell_type": "code",
   "execution_count": 14,
   "id": "dc7aebb3-97f3-49ca-9c87-05b11083b077",
   "metadata": {},
   "outputs": [
    {
     "name": "stdout",
     "output_type": "stream",
     "text": [
      "              precision    recall  f1-score   support\n",
      "\n",
      "         B-O       0.91      0.96      0.93      3165\n",
      "        B-AC       0.74      0.47      0.58       270\n",
      "        B-LF       0.50      0.35      0.41       150\n",
      "        I-LF       0.64      0.61      0.63       288\n",
      "\n",
      "    accuracy                           0.87      3873\n",
      "   macro avg       0.70      0.60      0.64      3873\n",
      "weighted avg       0.86      0.87      0.87      3873\n",
      "\n",
      "Overall F1 Score: 0.6370552399792629\n",
      "Overall Precision Score: 0.6958827218889801\n",
      "Overall Recall Score: 0.5987291556959804\n"
     ]
    },
    {
     "data": {
      "image/png": "[encoded data removed]",
      "text/plain": [
       "<Figure size 432x288 with 2 Axes>"
      ]
     },
     "metadata": {
      "needs_background": "light"
     },
     "output_type": "display_data"
    }
   ],
   "source": [
    "# Training the model\n",
    "model = LSTM(embedding_dim, hidden_dim, len(word_index), 4)\n",
    "loss_function = nn.NLLLoss()\n",
    "optimizer = optim.SGD(model.parameters(), lr=0.9)\n",
    "\n",
    "for epoch in range(6):\n",
    "    for i, datapoint in enumerate(train_dataset):\n",
    "        model.zero_grad()\n",
    "        sentence_in = encode_sequence(datapoint['tokens'], word_index)\n",
    "        targets = encode_sequence(encode_label(datapoint['ner_tags']))\n",
    "        tag_scores = model(sentence_in.unsqueeze(0))\n",
    "        loss = loss_function(tag_scores.squeeze(0), targets)\n",
    "        loss.backward()\n",
    "        optimizer.step()\n",
    "        # if i == 199:break\n",
    "    \n",
    "    # Model Validation\n",
    "    model.eval()\n",
    "    with torch.no_grad():\n",
    "        for val_datapoint in val_dataset:\n",
    "            val_inputs = encode_sequence(val_datapoint['tokens'], word_index)\n",
    "            val_targets = encode_sequence(encode_label(val_datapoint['ner_tags']))\n",
    "            val_tag_scores = model(val_inputs.unsqueeze(0))\n",
    "            val_loss = loss_function(val_tag_scores.squeeze(0), val_targets)\n",
    "            \n",
    "    model.train()\n",
    "    \n",
    "# Evaluate on the test set\n",
    "evaluate(model, test_dataset, word_index)"
   ]
  }
 ],
 "metadata": {
  "kernelspec": {
   "display_name": "Python 3 (ipykernel)",
   "language": "python",
   "name": "python3"
  },
  "language_info": {
   "codemirror_mode": {
    "name": "ipython",
    "version": 3
   },
   "file_extension": ".py",
   "mimetype": "text/x-python",
   "name": "python",
   "nbconvert_exporter": "python",
   "pygments_lexer": "ipython3",
   "version": "3.10.12"
  }
 },
 "nbformat": 4,
 "nbformat_minor": 5
}
